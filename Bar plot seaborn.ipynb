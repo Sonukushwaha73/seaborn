{
 "cells": [
  {
   "cell_type": "code",
   "execution_count": null,
   "id": "63d14695-c808-456b-a532-123962aa4644",
   "metadata": {},
   "outputs": [],
   "source": [
    "# Bar plot"
   ]
  },
  {
   "cell_type": "code",
   "execution_count": 49,
   "id": "30d19fed-3df5-4883-b002-e2835b1bab11",
   "metadata": {},
   "outputs": [
    {
     "name": "stderr",
     "output_type": "stream",
     "text": [
      "C:\\Users\\LENOVO\\AppData\\Local\\Temp\\ipykernel_9308\\2523312961.py:13: FutureWarning: \n",
      "\n",
      "The `errcolor` parameter is deprecated. And will be removed in v0.15.0. Pass `err_kws={'color': 'blue'}` instead.\n",
      "\n",
      "  sns.barplot(\n",
      "C:\\Users\\LENOVO\\AppData\\Local\\Temp\\ipykernel_9308\\2523312961.py:13: FutureWarning: \n",
      "\n",
      "The `errwidth` parameter is deprecated. And will be removed in v0.15.0. Pass `err_kws={'linewidth': '10'}` instead.\n",
      "\n",
      "  sns.barplot(\n"
     ]
    },
    {
     "data": {
      "image/png": "[encoded data removed]",
      "text/plain": [
       "<Figure size 640x480 with 1 Axes>"
      ]
     },
     "metadata": {},
     "output_type": "display_data"
    }
   ],
   "source": [
    "import matplotlib.pyplot as plt\n",
    "import seaborn as sns\n",
    "import pandas as pd\n",
    "\n",
    "# Dataset load\n",
    "var = sns.load_dataset(\"penguins\")\n",
    "\n",
    "# Orders define\n",
    "hue_order = [\"Female\", \"Male\"]\n",
    "order_1 = [\"Dream\", \"Torgersen\", \"Biscoe\"]\n",
    "\n",
    "# Bar plot\n",
    "sns.barplot(\n",
    "    x=\"island\", \n",
    "    y=\"bill_length_mm\", \n",
    "    data=var, \n",
    "    hue=\"sex\", \n",
    "    order=order_1, \n",
    "    hue_order=hue_order, \n",
    "    #ci=None,   # Error bars remove karne ke liye\n",
    "    #palette =\"icefire\",\n",
    "  # saturation =1,#light\n",
    "    errcolor =\"blue\", #jo \\\\ usko change karna graphs caip\n",
    "    errwidth =\"10\",\n",
    "    #capsize = 0.5, #capsize decide karta hai\n",
    "    alpha = 0.7,#alpha ek transparency parameter hota hai jo matplotlib aur seaborn dono me use kiya jaata hai.\n",
    "    \n",
    "   \n",
    ")\n",
    "\n",
    "plt.show()\n",
    "\n"
   ]
  },
  {
   "cell_type": "raw",
   "id": "a93161df-3c80-4ee5-85ed-4c680b23615f",
   "metadata": {},
   "source": []
  },
  {
   "cell_type": "code",
   "execution_count": null,
   "id": "64ad0304-7c21-4589-9aa0-213e0ecb8081",
   "metadata": {},
   "outputs": [],
   "source": []
  },
  {
   "cell_type": "code",
   "execution_count": null,
   "id": "285b051b-43fa-43a8-bee5-71409f8b06b3",
   "metadata": {},
   "outputs": [],
   "source": []
  },
  {
   "cell_type": "code",
   "execution_count": null,
   "id": "2358f7e8-26dd-4c56-a1f6-1e2eeefa5c2b",
   "metadata": {},
   "outputs": [],
   "source": []
  },
  {
   "cell_type": "code",
   "execution_count": null,
   "id": "b99dca2f-178f-430e-a64a-cf74fbf89430",
   "metadata": {},
   "outputs": [],
   "source": []
  },
  {
   "cell_type": "code",
   "execution_count": null,
   "id": "063cbe13-2bc6-4b80-acf2-296a93e7815d",
   "metadata": {},
   "outputs": [],
   "source": []
  },
  {
   "cell_type": "code",
   "execution_count": null,
   "id": "e531c914-3ccb-4a00-aa4a-1eee0e20504a",
   "metadata": {},
   "outputs": [],
   "source": []
  },
  {
   "cell_type": "code",
   "execution_count": null,
   "id": "c3edfa6e-4320-42f4-897c-f59b64b82fca",
   "metadata": {},
   "outputs": [],
   "source": []
  },
  {
   "cell_type": "code",
   "execution_count": null,
   "id": "d66d6998-50f9-4950-ab9f-eb7590666fcf",
   "metadata": {},
   "outputs": [],
   "source": []
  },
  {
   "cell_type": "code",
   "execution_count": null,
   "id": "fa24967e-d1ae-4515-adb0-709cd8868dd1",
   "metadata": {},
   "outputs": [],
   "source": []
  }
 ],
 "metadata": {
  "kernelspec": {
   "display_name": "Python 3 (ipykernel)",
   "language": "python",
   "name": "python3"
  },
  "language_info": {
   "codemirror_mode": {
    "name": "ipython",
    "version": 3
   },
   "file_extension": ".py",
   "mimetype": "text/x-python",
   "name": "python",
   "nbconvert_exporter": "python",
   "pygments_lexer": "ipython3",
   "version": "3.12.7"
  }
 },
 "nbformat": 4,
 "nbformat_minor": 5
}
